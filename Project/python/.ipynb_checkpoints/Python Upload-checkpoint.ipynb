{
 "cells": [
  {
   "cell_type": "code",
   "execution_count": 1,
   "metadata": {},
   "outputs": [],
   "source": [
    "import ftplib\n",
    "\n",
    "FTP_HOST = \"sandwichmelody.com\"\n",
    "FTP_USER = \"weather@sandwichmelody.com\"\n",
    "FTP_PASS = \"gJ5P4(Xw1)vw\""
   ]
  },
  {
   "cell_type": "code",
   "execution_count": 2,
   "metadata": {},
   "outputs": [],
   "source": [
    "# connect to the FTP server\n",
    "ftp = ftplib.FTP(FTP_HOST, FTP_USER, FTP_PASS)\n",
    "# force UTF-8 encoding\n",
    "ftp.encoding = \"utf-8\""
   ]
  },
  {
   "cell_type": "code",
   "execution_count": 3,
   "metadata": {},
   "outputs": [
    {
     "name": "stdout",
     "output_type": "stream",
     "text": [
      "drwxr-xr-x   60 sandwich   sandwich         4096 Apr 29 20:37 .\n",
      "drwxr-xr-x   60 sandwich   sandwich         4096 Apr 29 20:37 ..\n",
      "drwx--x--x    2 sandwich   sandwich           28 Feb  8  2020 .appdata\n",
      "-rw-r--r--    1 sandwich   sandwich           18 Jun 28  2019 .bash_logout\n",
      "-rw-r--r--    1 sandwich   sandwich          193 Jun 28  2019 .bash_profile\n",
      "-rw-r--r--    1 sandwich   sandwich          231 Jun 28  2019 .bashrc\n",
      "drwxrwx--x    5 sandwich   sandwich           55 May  8  2020 .cagefs\n",
      "drwxr-xr-x    2 sandwich   sandwich           90 Apr 22 03:22 .cl.selector\n",
      "-rw-r-----    1 sandwich   sandwich           21 Jun 28  2019 .contactemail\n",
      "drwx------    5 sandwich   sandwich          177 Apr 29 20:40 .cpanel\n",
      "drwx------    4 sandwich   sandwich           90 Jun 12  2020 .cphorde\n",
      "-rw-------    1 sandwich   sandwich           18 Apr 29 20:37 .ftpquota\n",
      "-rw-r--r--    1 sandwich   sandwich          139 May  8  2020 .gemrc\n",
      "drwxr-x---    2 sandwich   99                 10 Jun 28  2019 .htpasswds\n",
      "drwx------    2 sandwich   sandwich           32 Feb  8  2020 .kapps\n",
      "-rw-------    1 sandwich   sandwich          624 Apr 13 21:18 .lastlogin\n",
      "drwxr-----    3 sandwich   sandwich           27 Jun 28  2019 .pki\n",
      "drwx--x--x    7 sandwich   sandwich          227 Jun 11  2020 .softaculous\n",
      "drwx------    2 sandwich   sandwich           32 Jun 28  2019 .spamassassin\n",
      "-rw-r--r--    1 sandwich   sandwich            0 May  8  2020 .spamassassinboxenable\n",
      "-rw-r--r--    1 sandwich   sandwich            0 May  8  2020 .spamassassindisabled\n",
      "drwx------    2 sandwich   sandwich           10 Apr 21 11:10 .ssh\n",
      "drwx------    2 sandwich   sandwich           36 May  8  2020 .subaccounts\n",
      "drwx------    2 sandwich   sandwich           36 Apr 29 03:24 .trash\n",
      "drwxr-x---    8 sandwich   99                184 Mar 26 05:52 1905136.sandwichmelody.com\n",
      "drwxr-x---    3 sandwich   99                 33 May 20  2020 360.sandwichmelody.com\n",
      "drwxr-x---    3 sandwich   99                 33 May 12  2020 3chefs.sandwichmelody.com\n",
      "drwxr-x---    9 sandwich   99               4096 Apr 24 20:05 WinesForYou.sandwichmelody.com\n",
      "lrwxrwxrwx    1 sandwich   sandwich           34 May  8  2020 access-logs -> /etc/apache2/logs/domlogs/sandwich\n",
      "drwxr-xr-x    4 sandwich   sandwich           61 Mar  7 01:31 app\n",
      "drwxr-x---    7 sandwich   99               4096 Apr 29 16:47 artur.sandwichmelody.com\n",
      "drwxr-x---    7 sandwich   99               4096 Apr 29 05:20 beauty.sandwichmelody.com\n",
      "drwxr-x---    4 sandwich   99                 52 Jun  6  2020 booking.sandwichmelody.com\n",
      "drwxr-xr-x    2 sandwich   sandwich           10 May  8  2020 cache\n",
      "drwxr-x---    3 sandwich   99                 33 Jul  6  2020 canvasguy.sandwichmelody.com\n",
      "drwxr-x---    7 sandwich   99               4096 Apr 29 10:40 cow.sandwichmelody.com\n",
      "-rw-r--r--    1 sandwich   sandwich            0 Feb  3  2020 cpbackup-exclude.conf\n",
      "drwxr-x---    9 sandwich   99               4096 Apr 24 17:08 data-viz.sandwichmelody.com\n",
      "drwxr-x---    7 sandwich   99               4096 Apr 29 22:08 diaperstore.org\n",
      "drwxr-x---    7 sandwich   99               4096 Apr 15 21:15 diaperstore.sandwichmelody.com\n",
      "drwxr-x---    3 sandwich   99                 33 Jul  6  2020 dogos.sandwichmelody.com\n",
      "drwxr-x---    4 sandwich   12                109 Apr 29 20:37 etc\n",
      "drwxr-x---    3 sandwich   99                 33 May  9  2020 fabricshrinkage.sandwichmelody.com\n",
      "drwxr-x---    7 sandwich   99               4096 Apr 29 05:49 front.sandwichmelody.com\n",
      "drwxr-x---    7 sandwich   99               4096 Apr 28 16:54 glasses.sandwichmelody.com\n",
      "drwxr-x---    7 sandwich   99               4096 Apr 29 13:53 go.sandwichmelody.com\n",
      "drwxr-x---    3 sandwich   99                 33 Jul  6  2020 googlemap.sandwichmelody.com\n",
      "drwxr-x---    3 sandwich   99                 33 Jun  4  2020 hotels.sandwichmelody.com\n",
      "drwxr-x---    7 sandwich   99               4096 Sep 18  2020 infacebeauty.co.uk\n",
      "drwxr-xr-x    3 sandwich   sandwich           29 Sep 18  2020 jakeovski.com\n",
      "drwxr-x---    7 sandwich   99               4096 Apr 29 18:45 karina.sandwichmelody.com\n",
      "drwxr-x---    3 sandwich   99                 33 May 16  2020 klava.sandwichmelody.com\n",
      "drwx------    2 sandwich   sandwich        45056 Apr 29 13:13 logs\n",
      "drwxrwx---   19 99         sandwich          253 Oct  4  2020 lscache\n",
      "drwxr-x--x    6 sandwich   sandwich         4096 Apr 29 19:23 mail\n",
      "drwxr-xr-x    2 sandwich   sandwich           10 Jun 17  2020 main_diaperstore.org\n",
      "drwxr-x---    7 sandwich   99               4096 Apr 29 13:23 meat.sandwichmelody.com\n",
      "drwxr-xr-x    3 sandwich   sandwich           25 Mar  7 01:31 nodevenv\n",
      "drwxr-x---    3 sandwich   99                 33 May 10  2020 oxford.sandwichmelody.com\n",
      "drwxr-x---    3 sandwich   sandwich           30 Jun 28  2019 public_ftp\n",
      "drwxr-x---    9 sandwich   99               4096 Apr 29 12:00 public_html\n",
      "drwxr-x---    7 sandwich   99               4096 Apr 29 06:40 rauf.sandwichmelody.com\n",
      "drwxr-x---    4 sandwich   99                155 Sep  9  2020 rgu.sandwichmelody.com\n",
      "drwxr-x---    3 sandwich   99                 33 Jul  6  2020 saran.sandwichmelody.com\n",
      "drwxr-x---    3 sandwich   99                 33 May 12  2020 shoe.sandwichmelody.com\n",
      "drwx--x--x    3 sandwich   sandwich           25 Apr 23 20:43 softaculous_backups\n",
      "drwxr-xr-x    5 sandwich   sandwich          101 Apr 29 06:38 ssl\n",
      "-rw-r--r--    1 sandwich   sandwich          563 Dec  4  2019 test.json\n",
      "drwxr-x---    7 sandwich   99               4096 Apr 29 12:02 test.sandwichmelody.com\n",
      "drwxr-xr-x    7 sandwich   sandwich          183 Mar 26 06:04 tmp\n",
      "drwxr-xr-x    3 sandwich   sandwich           28 Jun 28  2019 var\n",
      "drwxr-x---    9 sandwich   99               4096 Apr 29 21:07 weather.sandwichmelody.com\n",
      "lrwxrwxrwx    1 sandwich   sandwich           11 Jun 28  2019 www -> public_html\n"
     ]
    }
   ],
   "source": [
    "# list current files & directories\n",
    "ftp.dir()"
   ]
  },
  {
   "cell_type": "code",
   "execution_count": 4,
   "metadata": {},
   "outputs": [
    {
     "data": {
      "text/plain": [
       "'250 OK. Current directory is /weather.sandwichmelody.com/wp-content/uploads'"
      ]
     },
     "execution_count": 4,
     "metadata": {},
     "output_type": "execute_result"
    }
   ],
   "source": [
    "ftp.cwd('/weather.sandwichmelody.com/wp-content/uploads')"
   ]
  },
  {
   "cell_type": "code",
   "execution_count": 5,
   "metadata": {},
   "outputs": [
    {
     "name": "stdout",
     "output_type": "stream",
     "text": [
      "drwxr-xr-x    4 sandwich   sandwich           96 Apr 29 20:55 .\n",
      "drwxr-xr-x    7 sandwich   sandwich          126 Apr 29 22:16 ..\n",
      "drwxr-xr-x    3 sandwich   sandwich           73 Apr 25 22:04 2021\n",
      "drwxr-xr-x    2 sandwich   sandwich           10 Apr 13 21:36 et_temp\n",
      "-rw-r--r--    1 sandwich   sandwich            2 Apr 29 20:55 some_file.json\n",
      "-rw-r--r--    1 sandwich   sandwich            2 Apr 29 21:35 some_file.txt\n"
     ]
    }
   ],
   "source": [
    "# list current files & directories\n",
    "ftp.dir()"
   ]
  },
  {
   "cell_type": "code",
   "execution_count": 6,
   "metadata": {},
   "outputs": [],
   "source": [
    "# local file name you want to upload\n",
    "filename = \"some_file.txt\"\n",
    "with open(filename, \"rb\") as file:\n",
    "    # use FTP's STOR command to upload the file\n",
    "    ftp.storbinary(f\"STOR {filename}\", file)"
   ]
  },
  {
   "cell_type": "code",
   "execution_count": 7,
   "metadata": {},
   "outputs": [
    {
     "name": "stdout",
     "output_type": "stream",
     "text": [
      "drwxr-xr-x    4 sandwich   sandwich           96 Apr 29 20:55 .\n",
      "drwxr-xr-x    7 sandwich   sandwich          126 Apr 29 22:16 ..\n",
      "drwxr-xr-x    3 sandwich   sandwich           73 Apr 25 22:04 2021\n",
      "drwxr-xr-x    2 sandwich   sandwich           10 Apr 13 21:36 et_temp\n",
      "-rw-r--r--    1 sandwich   sandwich            2 Apr 29 20:55 some_file.json\n",
      "-rw-r--r--    1 sandwich   sandwich            2 Apr 29 22:16 some_file.txt\n"
     ]
    }
   ],
   "source": [
    "# list current files & directories\n",
    "ftp.dir()"
   ]
  },
  {
   "cell_type": "code",
   "execution_count": null,
   "metadata": {},
   "outputs": [],
   "source": []
  }
 ],
 "metadata": {
  "kernelspec": {
   "display_name": "Python 3",
   "language": "python",
   "name": "python3"
  },
  "language_info": {
   "codemirror_mode": {
    "name": "ipython",
    "version": 3
   },
   "file_extension": ".py",
   "mimetype": "text/x-python",
   "name": "python",
   "nbconvert_exporter": "python",
   "pygments_lexer": "ipython3",
   "version": "3.8.5"
  }
 },
 "nbformat": 4,
 "nbformat_minor": 4
}
